{
 "cells": [
  {
   "cell_type": "code",
   "execution_count": 1,
   "id": "aa1a4fcb-f9f4-4c86-b08a-977970a86ed9",
   "metadata": {},
   "outputs": [
    {
     "name": "stderr",
     "output_type": "stream",
     "text": [
      "C:\\ProgramData\\Anaconda3\\envs\\torch\\lib\\site-packages\\fastbook\\__init__.py:18: UserWarning: Missing `graphviz` - please run `conda install fastbook`\n",
      "  except ModuleNotFoundError: warn(\"Missing `graphviz` - please run `conda install fastbook`\")\n"
     ]
    }
   ],
   "source": [
    "from fastbook import *\n",
    "from fastai.vision.widgets import *"
   ]
  },
  {
   "cell_type": "code",
   "execution_count": 2,
   "id": "9d31d48b-d813-4b64-8ae8-14fd475b32a8",
   "metadata": {},
   "outputs": [],
   "source": [
    "learn_inf = load_learner(Path()/'export.pkl')"
   ]
  },
  {
   "cell_type": "code",
   "execution_count": 3,
   "id": "7a44005c-c6e8-41d8-90a2-e0eb2736a316",
   "metadata": {},
   "outputs": [],
   "source": [
    "btn_upload = widgets.FileUpload()"
   ]
  },
  {
   "cell_type": "code",
   "execution_count": 4,
   "id": "77cd8571-beaf-4ab1-8a5c-b5e8e760826d",
   "metadata": {},
   "outputs": [],
   "source": [
    "btn_run = widgets.Button(description='Classify')"
   ]
  },
  {
   "cell_type": "code",
   "execution_count": 5,
   "id": "9f02a4f7-5e39-435e-a9b7-980bb6c36cbc",
   "metadata": {},
   "outputs": [],
   "source": [
    "out_pl = widgets.Output()"
   ]
  },
  {
   "cell_type": "code",
   "execution_count": 6,
   "id": "1cdb68ad-c891-4c50-ab44-5c0498e8183f",
   "metadata": {},
   "outputs": [],
   "source": [
    "lbl_pred = widgets.Label()"
   ]
  },
  {
   "cell_type": "code",
   "execution_count": 7,
   "id": "8f7a6ce9-a256-47a2-aae7-da5e136df1aa",
   "metadata": {},
   "outputs": [],
   "source": [
    "def on_click_classify(change):\n",
    "    img = PILImage.create(btn_upload.data[-1])\n",
    "    out_pl.clear_output()\n",
    "    with out_pl: display(img.to_thumb(128,128))\n",
    "    pred,pred_idx,probs = learn_inf.predict(img)\n",
    "    lbl_pred.value = f'Prediction: {pred}; Probability: {probs[pred_idx]:.04f}'\n",
    "\n",
    "btn_run.on_click(on_click_classify)"
   ]
  },
  {
   "cell_type": "code",
   "execution_count": 8,
   "id": "058d0bd7-08e6-4d4c-b75f-3995f7593712",
   "metadata": {},
   "outputs": [
    {
     "data": {
      "application/vnd.jupyter.widget-view+json": {
       "model_id": "ddc8a55ffa4444f9a38e14379af71d3f",
       "version_major": 2,
       "version_minor": 0
      },
      "text/plain": [
       "VBox(children=(Label(value='Select a scenery!'), FileUpload(value={}, description='Upload'), Button(descriptio…"
      ]
     },
     "metadata": {},
     "output_type": "display_data"
    }
   ],
   "source": [
    "VBox([widgets.Label('Select a scenery!'), \n",
    "      btn_upload, btn_run, out_pl, lbl_pred])"
   ]
  },
  {
   "cell_type": "code",
   "execution_count": 9,
   "id": "299e8dd2-0d6f-49e2-87b9-839c159b7d36",
   "metadata": {},
   "outputs": [
    {
     "name": "stdout",
     "output_type": "stream",
     "text": [
      "Requirement already satisfied: voila in c:\\programdata\\anaconda3\\envs\\torch\\lib\\site-packages (0.2.10)\n",
      "Requirement already satisfied: nbconvert<7,>=6.0.0 in c:\\programdata\\anaconda3\\envs\\torch\\lib\\site-packages (from voila) (6.0.7)\n",
      "Requirement already satisfied: jupyter-client<7,>=6.1.3 in c:\\programdata\\anaconda3\\envs\\torch\\lib\\site-packages (from voila) (6.1.12)\n",
      "Requirement already satisfied: jupyter-server<2.0.0,>=0.3.0 in c:\\programdata\\anaconda3\\envs\\torch\\lib\\site-packages (from voila) (1.7.0)\n",
      "Requirement already satisfied: nbclient<0.6,>=0.4.0 in c:\\programdata\\anaconda3\\envs\\torch\\lib\\site-packages (from voila) (0.5.3)\n",
      "Requirement already satisfied: jupyter-core>=4.6.0 in c:\\programdata\\anaconda3\\envs\\torch\\lib\\site-packages (from jupyter-client<7,>=6.1.3->voila) (4.7.1)\n",
      "Requirement already satisfied: python-dateutil>=2.1 in c:\\programdata\\anaconda3\\envs\\torch\\lib\\site-packages (from jupyter-client<7,>=6.1.3->voila) (2.8.1)\n",
      "Requirement already satisfied: traitlets in c:\\programdata\\anaconda3\\envs\\torch\\lib\\site-packages (from jupyter-client<7,>=6.1.3->voila) (5.0.5)\n",
      "Requirement already satisfied: tornado>=4.1 in c:\\programdata\\anaconda3\\envs\\torch\\lib\\site-packages (from jupyter-client<7,>=6.1.3->voila) (6.1)\n",
      "Requirement already satisfied: pyzmq>=13 in c:\\programdata\\anaconda3\\envs\\torch\\lib\\site-packages (from jupyter-client<7,>=6.1.3->voila) (22.0.3)\n",
      "Requirement already satisfied: pywin32>=1.0 in c:\\programdata\\anaconda3\\envs\\torch\\lib\\site-packages (from jupyter-core>=4.6.0->jupyter-client<7,>=6.1.3->voila) (300)\n",
      "Requirement already satisfied: Send2Trash in c:\\programdata\\anaconda3\\envs\\torch\\lib\\site-packages (from jupyter-server<2.0.0,>=0.3.0->voila) (1.5.0)\n",
      "Requirement already satisfied: argon2-cffi in c:\\programdata\\anaconda3\\envs\\torch\\lib\\site-packages (from jupyter-server<2.0.0,>=0.3.0->voila) (20.1.0)\n",
      "Requirement already satisfied: prometheus-client in c:\\programdata\\anaconda3\\envs\\torch\\lib\\site-packages (from jupyter-server<2.0.0,>=0.3.0->voila) (0.10.1)\n",
      "Requirement already satisfied: websocket-client in c:\\programdata\\anaconda3\\envs\\torch\\lib\\site-packages (from jupyter-server<2.0.0,>=0.3.0->voila) (0.57.0)\n",
      "Requirement already satisfied: terminado>=0.8.3 in c:\\programdata\\anaconda3\\envs\\torch\\lib\\site-packages (from jupyter-server<2.0.0,>=0.3.0->voila) (0.9.5)\n",
      "Requirement already satisfied: jinja2 in c:\\programdata\\anaconda3\\envs\\torch\\lib\\site-packages (from jupyter-server<2.0.0,>=0.3.0->voila) (3.0.0)\n",
      "Requirement already satisfied: anyio<4,>=3.0.1 in c:\\programdata\\anaconda3\\envs\\torch\\lib\\site-packages (from jupyter-server<2.0.0,>=0.3.0->voila) (3.0.1)\n",
      "Requirement already satisfied: ipython-genutils in c:\\programdata\\anaconda3\\envs\\torch\\lib\\site-packages (from jupyter-server<2.0.0,>=0.3.0->voila) (0.2.0)\n",
      "Requirement already satisfied: nbformat in c:\\programdata\\anaconda3\\envs\\torch\\lib\\site-packages (from jupyter-server<2.0.0,>=0.3.0->voila) (5.1.3)\n",
      "Requirement already satisfied: idna>=2.8 in c:\\programdata\\anaconda3\\envs\\torch\\lib\\site-packages (from anyio<4,>=3.0.1->jupyter-server<2.0.0,>=0.3.0->voila) (2.10)\n",
      "Requirement already satisfied: sniffio>=1.1 in c:\\programdata\\anaconda3\\envs\\torch\\lib\\site-packages (from anyio<4,>=3.0.1->jupyter-server<2.0.0,>=0.3.0->voila) (1.2.0)\n",
      "Requirement already satisfied: nest-asyncio in c:\\programdata\\anaconda3\\envs\\torch\\lib\\site-packages (from nbclient<0.6,>=0.4.0->voila) (1.5.1)\n",
      "Requirement already satisfied: async-generator in c:\\programdata\\anaconda3\\envs\\torch\\lib\\site-packages (from nbclient<0.6,>=0.4.0->voila) (1.10)\n",
      "Requirement already satisfied: bleach in c:\\programdata\\anaconda3\\envs\\torch\\lib\\site-packages (from nbconvert<7,>=6.0.0->voila) (3.3.0)\n",
      "Requirement already satisfied: jupyterlab-pygments in c:\\programdata\\anaconda3\\envs\\torch\\lib\\site-packages (from nbconvert<7,>=6.0.0->voila) (0.1.2)\n",
      "Requirement already satisfied: pygments>=2.4.1 in c:\\programdata\\anaconda3\\envs\\torch\\lib\\site-packages (from nbconvert<7,>=6.0.0->voila) (2.9.0)\n",
      "Requirement already satisfied: entrypoints>=0.2.2 in c:\\programdata\\anaconda3\\envs\\torch\\lib\\site-packages (from nbconvert<7,>=6.0.0->voila) (0.3)\n",
      "Requirement already satisfied: pandocfilters>=1.4.1 in c:\\programdata\\anaconda3\\envs\\torch\\lib\\site-packages (from nbconvert<7,>=6.0.0->voila) (1.4.2)\n",
      "Requirement already satisfied: mistune<2,>=0.8.1 in c:\\programdata\\anaconda3\\envs\\torch\\lib\\site-packages (from nbconvert<7,>=6.0.0->voila) (0.8.4)\n",
      "Requirement already satisfied: testpath in c:\\programdata\\anaconda3\\envs\\torch\\lib\\site-packages (from nbconvert<7,>=6.0.0->voila) (0.4.4)\n",
      "Requirement already satisfied: defusedxml in c:\\programdata\\anaconda3\\envs\\torch\\lib\\site-packages (from nbconvert<7,>=6.0.0->voila) (0.7.1)\n",
      "Requirement already satisfied: MarkupSafe>=2.0.0rc2 in c:\\programdata\\anaconda3\\envs\\torch\\lib\\site-packages (from jinja2->jupyter-server<2.0.0,>=0.3.0->voila) (2.0.0)\n",
      "Requirement already satisfied: jsonschema!=2.5.0,>=2.4 in c:\\programdata\\anaconda3\\envs\\torch\\lib\\site-packages (from nbformat->jupyter-server<2.0.0,>=0.3.0->voila) (3.2.0)\n",
      "Requirement already satisfied: attrs>=17.4.0 in c:\\programdata\\anaconda3\\envs\\torch\\lib\\site-packages (from jsonschema!=2.5.0,>=2.4->nbformat->jupyter-server<2.0.0,>=0.3.0->voila) (21.2.0)\n",
      "Requirement already satisfied: six>=1.11.0 in c:\\programdata\\anaconda3\\envs\\torch\\lib\\site-packages (from jsonschema!=2.5.0,>=2.4->nbformat->jupyter-server<2.0.0,>=0.3.0->voila) (1.16.0)\n",
      "Requirement already satisfied: setuptools in c:\\programdata\\anaconda3\\envs\\torch\\lib\\site-packages (from jsonschema!=2.5.0,>=2.4->nbformat->jupyter-server<2.0.0,>=0.3.0->voila) (49.6.0.post20210108)\n",
      "Requirement already satisfied: pyrsistent>=0.14.0 in c:\\programdata\\anaconda3\\envs\\torch\\lib\\site-packages (from jsonschema!=2.5.0,>=2.4->nbformat->jupyter-server<2.0.0,>=0.3.0->voila) (0.17.3)\n",
      "Requirement already satisfied: pywinpty<1,>=0.5 in c:\\programdata\\anaconda3\\envs\\torch\\lib\\site-packages (from terminado>=0.8.3->jupyter-server<2.0.0,>=0.3.0->voila) (0.5.7)\n",
      "Requirement already satisfied: cffi>=1.0.0 in c:\\programdata\\anaconda3\\envs\\torch\\lib\\site-packages (from argon2-cffi->jupyter-server<2.0.0,>=0.3.0->voila) (1.14.5)\n",
      "Requirement already satisfied: pycparser in c:\\programdata\\anaconda3\\envs\\torch\\lib\\site-packages (from cffi>=1.0.0->argon2-cffi->jupyter-server<2.0.0,>=0.3.0->voila) (2.20)\n",
      "Requirement already satisfied: packaging in c:\\programdata\\anaconda3\\envs\\torch\\lib\\site-packages (from bleach->nbconvert<7,>=6.0.0->voila) (20.9)\n",
      "Requirement already satisfied: webencodings in c:\\programdata\\anaconda3\\envs\\torch\\lib\\site-packages (from bleach->nbconvert<7,>=6.0.0->voila) (0.5.1)\n",
      "Requirement already satisfied: pyparsing>=2.0.2 in c:\\programdata\\anaconda3\\envs\\torch\\lib\\site-packages (from packaging->bleach->nbconvert<7,>=6.0.0->voila) (2.4.7)\n"
     ]
    }
   ],
   "source": [
    "!pip install voila"
   ]
  },
  {
   "cell_type": "code",
   "execution_count": 10,
   "id": "1c1cc11a-3927-4557-8c21-2138f7b28a30",
   "metadata": {},
   "outputs": [
    {
     "name": "stderr",
     "output_type": "stream",
     "text": [
      "Enabling: voila\n",
      "- Writing config: C:\\ProgramData\\Anaconda3\\envs\\torch\\etc\\jupyter\n",
      "    - Validating...\n",
      "      voila 0.2.10 ok\n"
     ]
    }
   ],
   "source": [
    "!jupyter serverextension enable --sys-prefix voila"
   ]
  },
  {
   "cell_type": "code",
   "execution_count": null,
   "id": "e0f1f5cb-e690-43bd-b879-6af21e5bfdcb",
   "metadata": {},
   "outputs": [],
   "source": []
  }
 ],
 "metadata": {
  "kernelspec": {
   "display_name": "Python 3",
   "language": "python",
   "name": "python3"
  },
  "language_info": {
   "codemirror_mode": {
    "name": "ipython",
    "version": 3
   },
   "file_extension": ".py",
   "mimetype": "text/x-python",
   "name": "python",
   "nbconvert_exporter": "python",
   "pygments_lexer": "ipython3",
   "version": "3.8.6"
  }
 },
 "nbformat": 4,
 "nbformat_minor": 5
}
